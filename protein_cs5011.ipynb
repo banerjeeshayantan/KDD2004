{
 "cells": [
  {
   "cell_type": "code",
   "execution_count": 45,
   "metadata": {},
   "outputs": [],
   "source": [
    "import pandas as pd\n",
    "from sklearn.preprocessing import Imputer\n",
    "import numpy as np\n",
    "from sklearn.ensemble import RandomForestClassifier\n",
    "#from sklearn.grid_search import GridSearchCV\n",
    "from sklearn.model_selection import train_test_split\n",
    "from sklearn.metrics import accuracy_score\n",
    "import matplotlib.pyplot as plt\n",
    "from sklearn.feature_selection import SelectFromModel\n",
    "from sklearn.ensemble import ExtraTreesClassifier\n",
    "from sklearn.ensemble import GradientBoostingClassifier\n",
    "from sklearn.ensemble import AdaBoostClassifier\n",
    "from sklearn.tree import DecisionTreeClassifier\n",
    "from sklearn.linear_model import LogisticRegression\n",
    "from sklearn.naive_bayes import GaussianNB\n",
    "from sklearn.svm import LinearSVC, SVC\n",
    "from sklearn.neighbors import KNeighborsClassifier\n",
    "from sklearn.model_selection import cross_val_score\n",
    "from sklearn.model_selection import GridSearchCV\n",
    "from sklearn.ensemble import RandomForestClassifier, VotingClassifier\n",
    "from sklearn import preprocessing\n",
    "from sklearn.preprocessing import MinMaxScaler\n",
    "import pickle\n",
    "from sklearn.metrics import confusion_matrix\n",
    "from sklearn.utils import resample\n",
    "from imblearn.over_sampling import SMOTE\n",
    "from sklearn.metrics import classification_report\n",
    "from imblearn.under_sampling import RandomUnderSampler\n",
    "import imblearn\n",
    "from collections import Counter\n",
    "from sklearn import linear_model\n",
    "from sklearn.model_selection import cross_val_predict"
   ]
  },
  {
   "cell_type": "code",
   "execution_count": 56,
   "metadata": {},
   "outputs": [],
   "source": [
    "train=pd.read_table('bio_train.dat',header=None)"
   ]
  },
  {
   "cell_type": "code",
   "execution_count": 52,
   "metadata": {},
   "outputs": [],
   "source": [
    "test_final=pd.read_table('bio_test.dat',header=None)"
   ]
  },
  {
   "cell_type": "code",
   "execution_count": 7,
   "metadata": {},
   "outputs": [],
   "source": [
    "column_names = [\"V\" + suit for suit in [str(x) for x in list(range(0,77))]]\n"
   ]
  },
  {
   "cell_type": "code",
   "execution_count": 53,
   "metadata": {},
   "outputs": [],
   "source": [
    "column_names = [\"V\" + suit for suit in [str(x) for x in list(range(0,77))]]\n"
   ]
  },
  {
   "cell_type": "code",
   "execution_count": 57,
   "metadata": {},
   "outputs": [],
   "source": [
    "train.columns=column_names"
   ]
  },
  {
   "cell_type": "code",
   "execution_count": 58,
   "metadata": {},
   "outputs": [],
   "source": [
    "test_final.columns=column_names"
   ]
  },
  {
   "cell_type": "code",
   "execution_count": 11,
   "metadata": {},
   "outputs": [],
   "source": [
    "test_final.V0=pd.Categorical(test_final.V0)"
   ]
  },
  {
   "cell_type": "code",
   "execution_count": 12,
   "metadata": {},
   "outputs": [],
   "source": [
    "train.V0=pd.Categorical(train.V0)"
   ]
  },
  {
   "cell_type": "code",
   "execution_count": 13,
   "metadata": {},
   "outputs": [],
   "source": [
    "train_list=list(train.V0.values)"
   ]
  },
  {
   "cell_type": "code",
   "execution_count": 59,
   "metadata": {},
   "outputs": [],
   "source": [
    "test_final_list=list(test_final.V0.values)"
   ]
  },
  {
   "cell_type": "code",
   "execution_count": 15,
   "metadata": {},
   "outputs": [],
   "source": [
    "pred=[]"
   ]
  },
  {
   "cell_type": "code",
   "execution_count": 79,
   "metadata": {},
   "outputs": [],
   "source": [
    "sub_only_block279=train[train.V0==279]"
   ]
  },
  {
   "cell_type": "code",
   "execution_count": 80,
   "metadata": {},
   "outputs": [
    {
     "data": {
      "text/plain": [
       "(array([  1.,   1.,   2.,  17.,  28., 114., 195., 261., 158.,  28.]),\n",
       " array([-115.5 , -106.65,  -97.8 ,  -88.95,  -80.1 ,  -71.25,  -62.4 ,\n",
       "         -53.55,  -44.7 ,  -35.85,  -27.  ]),\n",
       " <a list of 10 Patch objects>)"
      ]
     },
     "execution_count": 80,
     "metadata": {},
     "output_type": "execute_result"
    },
    {
     "data": {
      "image/png": "[encoded data removed]",
      "text/plain": [
       "<Figure size 432x288 with 1 Axes>"
      ]
     },
     "metadata": {
      "needs_background": "light"
     },
     "output_type": "display_data"
    }
   ],
   "source": [
    "plt.hist(sub_only_block279.iloc[:,12])"
   ]
  },
  {
   "cell_type": "code",
   "execution_count": 403,
   "metadata": {},
   "outputs": [
    {
     "name": "stdout",
     "output_type": "stream",
     "text": [
      "block_2\n",
      "(995, 74)\n",
      "0    991\n",
      "1      4\n",
      "Name: V2, dtype: int64\n",
      "block_5\n",
      "(1059, 74)\n",
      "0    1057\n",
      "1       2\n",
      "Name: V2, dtype: int64\n",
      "block_7\n",
      "(975, 74)\n",
      "0    952\n",
      "1     23\n",
      "Name: V2, dtype: int64\n",
      "block_8\n",
      "(625, 74)\n",
      "0    623\n",
      "1      2\n",
      "Name: V2, dtype: int64\n",
      "block_9\n",
      "(911, 74)\n",
      "0    910\n",
      "1      1\n",
      "Name: V2, dtype: int64\n",
      "block_12\n",
      "(958, 74)\n",
      "0    934\n",
      "1     24\n",
      "Name: V2, dtype: int64\n",
      "block_13\n",
      "(1101, 74)\n",
      "0    1089\n",
      "1      12\n",
      "Name: V2, dtype: int64\n",
      "block_14\n",
      "(906, 74)\n",
      "0    904\n",
      "1      2\n",
      "Name: V2, dtype: int64\n",
      "block_16\n",
      "(993, 74)\n",
      "0    980\n",
      "1     13\n",
      "Name: V2, dtype: int64\n",
      "block_17\n",
      "(1157, 74)\n",
      "0    1156\n",
      "1       1\n",
      "Name: V2, dtype: int64\n",
      "block_18\n",
      "(1114, 74)\n",
      "0    1113\n",
      "1       1\n",
      "Name: V2, dtype: int64\n",
      "block_19\n",
      "(1111, 74)\n",
      "0    1108\n",
      "1       3\n",
      "Name: V2, dtype: int64\n",
      "block_23\n",
      "(935, 74)\n",
      "0    927\n",
      "1      8\n",
      "Name: V2, dtype: int64\n",
      "block_24\n",
      "(929, 74)\n",
      "0    928\n",
      "1      1\n",
      "Name: V2, dtype: int64\n",
      "block_25\n",
      "(817, 74)\n",
      "0    793\n",
      "1     24\n",
      "Name: V2, dtype: int64\n",
      "block_27\n",
      "(820, 74)\n",
      "0    813\n",
      "1      7\n",
      "Name: V2, dtype: int64\n",
      "block_29\n",
      "(988, 74)\n",
      "0    983\n",
      "1      5\n",
      "Name: V2, dtype: int64\n",
      "block_30\n",
      "(749, 74)\n",
      "0    748\n",
      "1      1\n",
      "Name: V2, dtype: int64\n",
      "block_31\n",
      "(1076, 74)\n",
      "0    1072\n",
      "1       4\n",
      "Name: V2, dtype: int64\n",
      "block_33\n",
      "(978, 74)\n",
      "0    976\n",
      "1      2\n",
      "Name: V2, dtype: int64\n",
      "block_34\n",
      "(1143, 74)\n",
      "0    1142\n",
      "1       1\n",
      "Name: V2, dtype: int64\n",
      "block_36\n",
      "(826, 74)\n",
      "0    800\n",
      "1     26\n",
      "Name: V2, dtype: int64\n",
      "block_37\n",
      "(980, 74)\n",
      "0    979\n",
      "1      1\n",
      "Name: V2, dtype: int64\n",
      "block_39\n",
      "(1194, 74)\n",
      "0    1193\n",
      "1       1\n",
      "Name: V2, dtype: int64\n",
      "block_42\n",
      "(981, 74)\n",
      "0    980\n",
      "1      1\n",
      "Name: V2, dtype: int64\n",
      "block_46\n",
      "(616, 74)\n",
      "0    614\n",
      "1      2\n",
      "Name: V2, dtype: int64\n",
      "block_48\n",
      "(942, 74)\n",
      "0    919\n",
      "1     23\n",
      "Name: V2, dtype: int64\n",
      "block_55\n",
      "(815, 74)\n",
      "0    800\n",
      "1     15\n",
      "Name: V2, dtype: int64\n",
      "block_57\n",
      "(962, 74)\n",
      "0    944\n",
      "1     18\n",
      "Name: V2, dtype: int64\n",
      "block_59\n",
      "(974, 74)\n",
      "0    970\n",
      "1      4\n",
      "Name: V2, dtype: int64\n",
      "block_60\n",
      "(742, 74)\n",
      "0    738\n",
      "1      4\n",
      "Name: V2, dtype: int64\n",
      "block_61\n",
      "(924, 74)\n",
      "0    922\n",
      "1      2\n",
      "Name: V2, dtype: int64\n",
      "block_62\n",
      "(1018, 74)\n",
      "0    1013\n",
      "1       5\n",
      "Name: V2, dtype: int64\n",
      "block_64\n",
      "(635, 74)\n",
      "0    632\n",
      "1      3\n",
      "Name: V2, dtype: int64\n",
      "block_65\n",
      "(884, 74)\n",
      "0    873\n",
      "1     11\n",
      "Name: V2, dtype: int64\n",
      "block_66\n",
      "(1185, 74)\n",
      "0    1184\n",
      "1       1\n",
      "Name: V2, dtype: int64\n",
      "block_67\n",
      "(612, 74)\n",
      "0    610\n",
      "1      2\n",
      "Name: V2, dtype: int64\n",
      "block_69\n",
      "(1099, 74)\n",
      "0    1085\n",
      "1      14\n",
      "Name: V2, dtype: int64\n",
      "block_73\n",
      "(1031, 74)\n",
      "0    1023\n",
      "1       8\n",
      "Name: V2, dtype: int64\n",
      "block_74\n",
      "(630, 74)\n",
      "0    626\n",
      "1      4\n",
      "Name: V2, dtype: int64\n",
      "block_77\n",
      "(993, 74)\n",
      "0    991\n",
      "1      2\n",
      "Name: V2, dtype: int64\n",
      "block_78\n",
      "(1001, 74)\n",
      "0    1000\n",
      "1       1\n",
      "Name: V2, dtype: int64\n",
      "block_80\n",
      "(944, 74)\n",
      "0    939\n",
      "1      5\n",
      "Name: V2, dtype: int64\n",
      "block_81\n",
      "(1024, 74)\n",
      "0    1021\n",
      "1       3\n",
      "Name: V2, dtype: int64\n",
      "block_95\n",
      "(1120, 74)\n",
      "0    1119\n",
      "1       1\n",
      "Name: V2, dtype: int64\n",
      "block_96\n",
      "(974, 74)\n",
      "0    972\n",
      "1      2\n",
      "Name: V2, dtype: int64\n",
      "block_100\n",
      "(796, 74)\n",
      "0    768\n",
      "1     28\n",
      "Name: V2, dtype: int64\n",
      "block_101\n",
      "(793, 74)\n",
      "0    788\n",
      "1      5\n",
      "Name: V2, dtype: int64\n",
      "block_103\n",
      "(1054, 74)\n",
      "0    1047\n",
      "1       7\n",
      "Name: V2, dtype: int64\n",
      "block_104\n",
      "(1005, 74)\n",
      "0    1000\n",
      "1       5\n",
      "Name: V2, dtype: int64\n",
      "block_106\n",
      "(964, 74)\n",
      "0    963\n",
      "1      1\n",
      "Name: V2, dtype: int64\n",
      "block_107\n",
      "(1172, 74)\n",
      "0    1171\n",
      "1       1\n",
      "Name: V2, dtype: int64\n",
      "block_110\n",
      "(1132, 74)\n",
      "0    1122\n",
      "1      10\n",
      "Name: V2, dtype: int64\n",
      "block_111\n",
      "(993, 74)\n",
      "0    992\n",
      "1      1\n",
      "Name: V2, dtype: int64\n",
      "block_112\n",
      "(934, 74)\n",
      "0    903\n",
      "1     31\n",
      "Name: V2, dtype: int64\n",
      "block_113\n",
      "(677, 74)\n",
      "0    671\n",
      "1      6\n",
      "Name: V2, dtype: int64\n",
      "block_114\n",
      "(845, 74)\n",
      "0    843\n",
      "1      2\n",
      "Name: V2, dtype: int64\n",
      "block_115\n",
      "(761, 74)\n",
      "0    740\n",
      "1     21\n",
      "Name: V2, dtype: int64\n",
      "block_116\n",
      "(969, 74)\n",
      "0    950\n",
      "1     19\n",
      "Name: V2, dtype: int64\n",
      "block_117\n",
      "(1136, 74)\n",
      "0    1125\n",
      "1      11\n",
      "Name: V2, dtype: int64\n",
      "block_118\n",
      "(834, 74)\n",
      "0    804\n",
      "1     30\n",
      "Name: V2, dtype: int64\n",
      "block_119\n",
      "(831, 74)\n",
      "0    829\n",
      "1      2\n",
      "Name: V2, dtype: int64\n",
      "block_124\n",
      "(824, 74)\n",
      "0    823\n",
      "1      1\n",
      "Name: V2, dtype: int64\n",
      "block_125\n",
      "(932, 74)\n",
      "0    931\n",
      "1      1\n",
      "Name: V2, dtype: int64\n",
      "block_129\n",
      "(803, 74)\n",
      "0    801\n",
      "1      2\n",
      "Name: V2, dtype: int64\n",
      "block_130\n",
      "(821, 74)\n",
      "0    802\n",
      "1     19\n",
      "Name: V2, dtype: int64\n",
      "block_133\n",
      "(1090, 74)\n",
      "0    1089\n",
      "1       1\n",
      "Name: V2, dtype: int64\n",
      "block_135\n",
      "(1057, 74)\n",
      "0    1041\n",
      "1      16\n",
      "Name: V2, dtype: int64\n",
      "block_138\n",
      "(780, 74)\n",
      "0    775\n",
      "1      5\n",
      "Name: V2, dtype: int64\n",
      "block_139\n",
      "(877, 74)\n",
      "0    875\n",
      "1      2\n",
      "Name: V2, dtype: int64\n",
      "block_142\n",
      "(889, 74)\n",
      "0    888\n",
      "1      1\n",
      "Name: V2, dtype: int64\n",
      "block_143\n",
      "(937, 74)\n",
      "0    932\n",
      "1      5\n",
      "Name: V2, dtype: int64\n",
      "block_144\n",
      "(880, 74)\n",
      "0    878\n",
      "1      2\n",
      "Name: V2, dtype: int64\n",
      "block_146\n",
      "(985, 74)\n",
      "0    976\n",
      "1      9\n",
      "Name: V2, dtype: int64\n",
      "block_147\n",
      "(949, 74)\n",
      "0    928\n",
      "1     21\n",
      "Name: V2, dtype: int64\n",
      "block_148\n",
      "(937, 74)\n",
      "0    936\n",
      "1      1\n",
      "Name: V2, dtype: int64\n",
      "block_156\n",
      "(878, 74)\n",
      "0    876\n",
      "1      2\n",
      "Name: V2, dtype: int64\n",
      "block_158\n",
      "(1128, 74)\n",
      "0    1124\n",
      "1       4\n",
      "Name: V2, dtype: int64\n",
      "block_159\n",
      "(848, 74)\n",
      "0    847\n",
      "1      1\n",
      "Name: V2, dtype: int64\n",
      "block_160\n",
      "(1219, 74)\n",
      "0    1217\n",
      "1       2\n",
      "Name: V2, dtype: int64\n",
      "block_162\n",
      "(816, 74)\n",
      "0    779\n",
      "1     37\n",
      "Name: V2, dtype: int64\n",
      "block_163\n",
      "(937, 74)\n",
      "0    914\n",
      "1     23\n",
      "Name: V2, dtype: int64\n",
      "block_164\n",
      "(762, 74)\n",
      "0    752\n",
      "1     10\n",
      "Name: V2, dtype: int64\n",
      "block_167\n",
      "(978, 74)\n",
      "0    969\n",
      "1      9\n",
      "Name: V2, dtype: int64\n",
      "block_170\n",
      "(1036, 74)\n",
      "0    1024\n",
      "1      12\n",
      "Name: V2, dtype: int64\n",
      "block_172\n",
      "(926, 74)\n",
      "0    917\n",
      "1      9\n",
      "Name: V2, dtype: int64\n",
      "block_173\n",
      "(1159, 74)\n",
      "0    1158\n",
      "1       1\n",
      "Name: V2, dtype: int64\n",
      "block_174\n",
      "(817, 74)\n",
      "0    795\n",
      "1     22\n",
      "Name: V2, dtype: int64\n",
      "block_175\n",
      "(998, 74)\n",
      "0    993\n",
      "1      5\n",
      "Name: V2, dtype: int64\n",
      "block_176\n",
      "(1048, 74)\n",
      "0    1047\n",
      "1       1\n",
      "Name: V2, dtype: int64\n",
      "block_178\n",
      "(1013, 74)\n",
      "0    988\n",
      "1     25\n",
      "Name: V2, dtype: int64\n",
      "block_180\n",
      "(1244, 74)\n",
      "0    1243\n",
      "1       1\n",
      "Name: V2, dtype: int64\n",
      "block_182\n",
      "(833, 74)\n",
      "0    829\n",
      "1      4\n",
      "Name: V2, dtype: int64\n",
      "block_184\n",
      "(1130, 74)\n",
      "0    1115\n",
      "1      15\n",
      "Name: V2, dtype: int64\n",
      "block_185\n",
      "(985, 74)\n",
      "0    968\n",
      "1     17\n",
      "Name: V2, dtype: int64\n",
      "block_186\n",
      "(817, 74)\n",
      "0    795\n",
      "1     22\n",
      "Name: V2, dtype: int64\n",
      "block_187\n",
      "(854, 74)\n",
      "0    853\n",
      "1      1\n",
      "Name: V2, dtype: int64\n",
      "block_189\n",
      "(947, 74)\n",
      "0    933\n",
      "1     14\n",
      "Name: V2, dtype: int64\n",
      "block_191\n",
      "(908, 74)\n",
      "0    906\n",
      "1      2\n",
      "Name: V2, dtype: int64\n",
      "block_198\n",
      "(846, 74)\n",
      "0    798\n",
      "1     48\n",
      "Name: V2, dtype: int64\n",
      "block_201\n",
      "(1073, 74)\n",
      "0    1072\n",
      "1       1\n",
      "Name: V2, dtype: int64\n",
      "block_205\n",
      "(1214, 74)\n",
      "0    1207\n",
      "1       7\n",
      "Name: V2, dtype: int64\n",
      "block_206\n",
      "(981, 74)\n",
      "0    980\n",
      "1      1\n",
      "Name: V2, dtype: int64\n",
      "block_210\n",
      "(962, 74)\n",
      "0    956\n",
      "1      6\n",
      "Name: V2, dtype: int64\n",
      "block_211\n",
      "(1059, 74)\n",
      "0    1058\n",
      "1       1\n",
      "Name: V2, dtype: int64\n",
      "block_212\n",
      "(746, 74)\n",
      "0    737\n",
      "1      9\n",
      "Name: V2, dtype: int64\n",
      "block_214\n",
      "(804, 74)\n",
      "0    802\n",
      "1      2\n",
      "Name: V2, dtype: int64\n",
      "block_216\n",
      "(1068, 74)\n",
      "0    1065\n",
      "1       3\n",
      "Name: V2, dtype: int64\n",
      "block_228\n",
      "(1086, 74)\n",
      "0    1077\n",
      "1       9\n",
      "Name: V2, dtype: int64\n",
      "block_230\n",
      "(910, 74)\n",
      "0    907\n",
      "1      3\n",
      "Name: V2, dtype: int64\n",
      "block_231\n",
      "(935, 74)\n",
      "0    923\n",
      "1     12\n",
      "Name: V2, dtype: int64\n",
      "block_232\n",
      "(930, 74)\n",
      "0    929\n",
      "1      1\n",
      "Name: V2, dtype: int64\n",
      "block_234\n",
      "(859, 74)\n",
      "0    855\n",
      "1      4\n",
      "Name: V2, dtype: int64\n",
      "block_236\n",
      "(1050, 74)\n",
      "0    1048\n",
      "1       2\n",
      "Name: V2, dtype: int64\n",
      "block_237\n",
      "(813, 74)\n",
      "0    810\n",
      "1      3\n",
      "Name: V2, dtype: int64\n",
      "block_238\n",
      "(861, 74)\n",
      "0    811\n",
      "1     50\n",
      "Name: V2, dtype: int64\n",
      "block_239\n",
      "(949, 74)\n",
      "0    928\n",
      "1     21\n",
      "Name: V2, dtype: int64\n",
      "block_241\n",
      "(910, 74)\n",
      "0    901\n",
      "1      9\n",
      "Name: V2, dtype: int64\n",
      "block_243\n",
      "(941, 74)\n",
      "0    930\n",
      "1     11\n",
      "Name: V2, dtype: int64\n",
      "block_244\n",
      "(817, 74)\n",
      "0    785\n",
      "1     32\n",
      "Name: V2, dtype: int64\n",
      "block_245\n",
      "(954, 74)\n",
      "0    948\n",
      "1      6\n",
      "Name: V2, dtype: int64\n",
      "block_246\n",
      "(801, 74)\n",
      "0    768\n",
      "1     33\n",
      "Name: V2, dtype: int64\n",
      "block_250\n",
      "(965, 74)\n",
      "0    964\n",
      "1      1\n",
      "Name: V2, dtype: int64\n",
      "block_252\n",
      "(1077, 74)\n",
      "0    1075\n",
      "1       2\n",
      "Name: V2, dtype: int64\n",
      "block_254\n",
      "(949, 74)\n",
      "0    943\n",
      "1      6\n",
      "Name: V2, dtype: int64\n",
      "block_255\n",
      "(1083, 74)\n",
      "0    1076\n",
      "1       7\n",
      "Name: V2, dtype: int64\n",
      "block_256\n",
      "(942, 74)\n",
      "0    929\n",
      "1     13\n",
      "Name: V2, dtype: int64\n",
      "block_257\n",
      "(1127, 74)\n",
      "0    1126\n",
      "1       1\n",
      "Name: V2, dtype: int64\n",
      "block_259\n",
      "(1025, 74)\n",
      "0    1022\n",
      "1       3\n",
      "Name: V2, dtype: int64\n",
      "block_261\n",
      "(1058, 74)\n",
      "0    1057\n",
      "1       1\n",
      "Name: V2, dtype: int64\n",
      "block_262\n",
      "(930, 74)\n",
      "0    927\n",
      "1      3\n",
      "Name: V2, dtype: int64\n",
      "block_264\n",
      "(1063, 74)\n",
      "0    1058\n",
      "1       5\n",
      "Name: V2, dtype: int64\n",
      "block_266\n",
      "(991, 74)\n",
      "0    981\n",
      "1     10\n",
      "Name: V2, dtype: int64\n",
      "block_267\n",
      "(988, 74)\n",
      "0    987\n",
      "1      1\n",
      "Name: V2, dtype: int64\n",
      "block_269\n",
      "(1134, 74)\n",
      "0    1129\n",
      "1       5\n",
      "Name: V2, dtype: int64\n",
      "block_270\n",
      "(1056, 74)\n",
      "0    1054\n",
      "1       2\n",
      "Name: V2, dtype: int64\n",
      "block_271\n",
      "(1006, 74)\n",
      "0    957\n",
      "1     49\n",
      "Name: V2, dtype: int64\n",
      "block_273\n",
      "(1191, 74)\n",
      "0    1188\n",
      "1       3\n",
      "Name: V2, dtype: int64\n",
      "block_274\n",
      "(1011, 74)\n",
      "0    992\n",
      "1     19\n",
      "Name: V2, dtype: int64\n",
      "block_275\n",
      "(934, 74)\n",
      "0    930\n",
      "1      4\n",
      "Name: V2, dtype: int64\n",
      "block_276\n",
      "(811, 74)\n",
      "0    805\n",
      "1      6\n",
      "Name: V2, dtype: int64\n",
      "block_277\n",
      "(917, 74)\n",
      "0    893\n",
      "1     24\n",
      "Name: V2, dtype: int64\n",
      "block_279\n",
      "(805, 74)\n",
      "0    804\n",
      "1      1\n",
      "Name: V2, dtype: int64\n",
      "block_280\n",
      "(1102, 74)\n",
      "0    1101\n",
      "1       1\n",
      "Name: V2, dtype: int64\n",
      "block_282\n",
      "(1032, 74)\n",
      "0    1031\n",
      "1       1\n",
      "Name: V2, dtype: int64\n",
      "block_283\n",
      "(700, 74)\n",
      "0    699\n",
      "1      1\n",
      "Name: V2, dtype: int64\n",
      "block_286\n",
      "(1145, 74)\n",
      "0    1140\n",
      "1       5\n",
      "Name: V2, dtype: int64\n",
      "block_287\n",
      "(875, 74)\n",
      "0    866\n",
      "1      9\n",
      "Name: V2, dtype: int64\n",
      "block_289\n",
      "(902, 74)\n",
      "0    897\n",
      "1      5\n",
      "Name: V2, dtype: int64\n",
      "block_291\n",
      "(999, 74)\n",
      "0    994\n",
      "1      5\n",
      "Name: V2, dtype: int64\n",
      "block_293\n",
      "(973, 74)\n",
      "0    972\n",
      "1      1\n",
      "Name: V2, dtype: int64\n",
      "block_299\n",
      "(987, 74)\n",
      "0    986\n",
      "1      1\n",
      "Name: V2, dtype: int64\n",
      "block_303\n",
      "(1020, 74)\n",
      "0    998\n",
      "1     22\n",
      "Name: V2, dtype: int64\n"
     ]
    }
   ],
   "source": [
    "df_final=pd.DataFrame()\n",
    "#Blockwise operation- normalizing within each block for train set\n",
    "for i in set(train_list):\n",
    "    #declaring variable names on the go\n",
    "    x='block_'+str(i)\n",
    "    print(x)\n",
    "    #subsetting each block from the training set\n",
    "    vars()[x]=train[train.V0==i]\n",
    "    #Normalizing data inside each block\n",
    "    min_max_scaler = preprocessing.MinMaxScaler()\n",
    "    x_scaled = min_max_scaler.fit_transform(vars()[x].iloc[:,3:77])\n",
    "    df_normalized = pd.DataFrame(x_scaled)\n",
    "    #printing size of each block and class distribution\n",
    "    print(df_normalized.shape)\n",
    "    print(vars()[x].V2.value_counts())\n",
    "    df_final=pd.concat([df_final, df_normalized])\n",
    "  #  y='model'+str(i)\n",
    "   # vars()[y]=SVC(kernel='linear')\n",
    "    #vars()[y].fit(df_normalized,vars()[x].V2)\n",
    "    #print(classification_report(vars()[x].V2,vars()[y].predict(df_normalized)))\n",
    "    #pred.append(vars()[y].support_)"
   ]
  },
  {
   "cell_type": "code",
   "execution_count": 409,
   "metadata": {},
   "outputs": [],
   "source": [
    "df_final.index=list(train.index)\n",
    "#train.shape"
   ]
  },
  {
   "cell_type": "code",
   "execution_count": 158,
   "metadata": {},
   "outputs": [],
   "source": [
    "column_names = [\"V\" + suit for suit in [str(x) for x in list(range(0,74))]]\n",
    "df_final.columns=column_names"
   ]
  },
  {
   "cell_type": "code",
   "execution_count": 78,
   "metadata": {},
   "outputs": [
    {
     "data": {
      "text/plain": [
       "(array([ 1319.,  5534., 17309., 31660., 36891., 28368., 15621.,  6416.,\n",
       "         1973.,   660.]),\n",
       " array([0. , 0.1, 0.2, 0.3, 0.4, 0.5, 0.6, 0.7, 0.8, 0.9, 1. ]),\n",
       " <a list of 10 Patch objects>)"
      ]
     },
     "execution_count": 78,
     "metadata": {},
     "output_type": "execute_result"
    },
    {
     "data": {
      "image/png": "[encoded data removed]",
      "text/plain": [
       "<Figure size 432x288 with 1 Axes>"
      ]
     },
     "metadata": {
      "needs_background": "light"
     },
     "output_type": "display_data"
    }
   ],
   "source": [
    "plt.hist(df_final.iloc[:,12])"
   ]
  },
  {
   "cell_type": "code",
   "execution_count": null,
   "metadata": {},
   "outputs": [],
   "source": []
  },
  {
   "cell_type": "code",
   "execution_count": 106,
   "metadata": {},
   "outputs": [
    {
     "name": "stdout",
     "output_type": "stream",
     "text": [
      "block_1\n",
      "(998, 74)\n",
      "block_3\n",
      "(861, 74)\n",
      "block_4\n",
      "(916, 74)\n",
      "block_6\n",
      "(1032, 74)\n",
      "block_10\n",
      "(937, 74)\n",
      "block_11\n",
      "(932, 74)\n",
      "block_15\n",
      "(910, 74)\n",
      "block_20\n",
      "(1008, 74)\n",
      "block_21\n",
      "(1143, 74)\n",
      "block_22\n",
      "(850, 74)\n",
      "block_26\n",
      "(774, 74)\n",
      "block_28\n",
      "(1082, 74)\n",
      "block_32\n",
      "(251, 74)\n",
      "block_35\n",
      "(910, 74)\n",
      "block_38\n",
      "(256, 74)\n",
      "block_40\n",
      "(993, 74)\n",
      "block_41\n",
      "(968, 74)\n",
      "block_43\n",
      "(1182, 74)\n",
      "block_44\n",
      "(1084, 74)\n",
      "block_45\n",
      "(939, 74)\n",
      "block_47\n",
      "(920, 74)\n",
      "block_49\n",
      "(787, 74)\n",
      "block_50\n",
      "(954, 74)\n",
      "block_51\n",
      "(551, 74)\n",
      "block_52\n",
      "(1121, 74)\n",
      "block_53\n",
      "(1022, 74)\n",
      "block_54\n",
      "(1033, 74)\n",
      "block_56\n",
      "(882, 74)\n",
      "block_58\n",
      "(1155, 74)\n",
      "block_63\n",
      "(1008, 74)\n",
      "block_68\n",
      "(1232, 74)\n",
      "block_70\n",
      "(983, 74)\n",
      "block_71\n",
      "(531, 74)\n",
      "block_72\n",
      "(1016, 74)\n",
      "block_75\n",
      "(943, 74)\n",
      "block_76\n",
      "(749, 74)\n",
      "block_79\n",
      "(1058, 74)\n",
      "block_82\n",
      "(965, 74)\n",
      "block_83\n",
      "(820, 74)\n",
      "block_84\n",
      "(723, 74)\n",
      "block_85\n",
      "(1005, 74)\n",
      "block_86\n",
      "(615, 74)\n",
      "block_87\n",
      "(1034, 74)\n",
      "block_88\n",
      "(796, 74)\n",
      "block_89\n",
      "(1052, 74)\n",
      "block_90\n",
      "(868, 74)\n",
      "block_91\n",
      "(865, 74)\n",
      "block_92\n",
      "(973, 74)\n",
      "block_93\n",
      "(1120, 74)\n",
      "block_94\n",
      "(957, 74)\n",
      "block_97\n",
      "(1079, 74)\n",
      "block_98\n",
      "(805, 74)\n",
      "block_99\n",
      "(806, 74)\n",
      "block_102\n",
      "(1116, 74)\n",
      "block_105\n",
      "(1021, 74)\n",
      "block_108\n",
      "(964, 74)\n",
      "block_109\n",
      "(960, 74)\n",
      "block_120\n",
      "(847, 74)\n",
      "block_121\n",
      "(661, 74)\n",
      "block_122\n",
      "(951, 74)\n",
      "block_123\n",
      "(1125, 74)\n",
      "block_126\n",
      "(1094, 74)\n",
      "block_127\n",
      "(1214, 74)\n",
      "block_128\n",
      "(888, 74)\n",
      "block_131\n",
      "(827, 74)\n",
      "block_132\n",
      "(1037, 74)\n",
      "block_134\n",
      "(1119, 74)\n",
      "block_136\n",
      "(756, 74)\n",
      "block_137\n",
      "(1120, 74)\n",
      "block_140\n",
      "(976, 74)\n",
      "block_141\n",
      "(732, 74)\n",
      "block_145\n",
      "(1019, 74)\n",
      "block_149\n",
      "(921, 74)\n",
      "block_150\n",
      "(954, 74)\n",
      "block_151\n",
      "(897, 74)\n",
      "block_152\n",
      "(934, 74)\n",
      "block_153\n",
      "(811, 74)\n",
      "block_154\n",
      "(886, 74)\n",
      "block_155\n",
      "(1160, 74)\n",
      "block_157\n",
      "(1071, 74)\n",
      "block_161\n",
      "(1054, 74)\n",
      "block_165\n",
      "(954, 74)\n",
      "block_166\n",
      "(1156, 74)\n",
      "block_168\n",
      "(911, 74)\n",
      "block_169\n",
      "(825, 74)\n",
      "block_171\n",
      "(856, 74)\n",
      "block_177\n",
      "(993, 74)\n",
      "block_179\n",
      "(1009, 74)\n",
      "block_181\n",
      "(859, 74)\n",
      "block_183\n",
      "(826, 74)\n",
      "block_188\n",
      "(971, 74)\n",
      "block_190\n",
      "(880, 74)\n",
      "block_192\n",
      "(990, 74)\n",
      "block_193\n",
      "(1122, 74)\n",
      "block_194\n",
      "(862, 74)\n",
      "block_195\n",
      "(1204, 74)\n",
      "block_196\n",
      "(1114, 74)\n",
      "block_197\n",
      "(905, 74)\n",
      "block_199\n",
      "(985, 74)\n",
      "block_200\n",
      "(1093, 74)\n",
      "block_202\n",
      "(803, 74)\n",
      "block_203\n",
      "(973, 74)\n",
      "block_204\n",
      "(690, 74)\n",
      "block_207\n",
      "(839, 74)\n",
      "block_208\n",
      "(726, 74)\n",
      "block_209\n",
      "(970, 74)\n",
      "block_213\n",
      "(878, 74)\n",
      "block_215\n",
      "(785, 74)\n",
      "block_217\n",
      "(372, 74)\n",
      "block_218\n",
      "(946, 74)\n",
      "block_219\n",
      "(901, 74)\n",
      "block_220\n",
      "(1039, 74)\n",
      "block_221\n",
      "(1164, 74)\n",
      "block_222\n",
      "(879, 74)\n",
      "block_223\n",
      "(913, 74)\n",
      "block_224\n",
      "(970, 74)\n",
      "block_225\n",
      "(829, 74)\n",
      "block_226\n",
      "(906, 74)\n",
      "block_227\n",
      "(940, 74)\n",
      "block_229\n",
      "(697, 74)\n",
      "block_233\n",
      "(1033, 74)\n",
      "block_235\n",
      "(992, 74)\n",
      "block_240\n",
      "(828, 74)\n",
      "block_242\n",
      "(956, 74)\n",
      "block_247\n",
      "(1129, 74)\n",
      "block_248\n",
      "(933, 74)\n",
      "block_249\n",
      "(760, 74)\n",
      "block_251\n",
      "(636, 74)\n",
      "block_253\n",
      "(717, 74)\n",
      "block_258\n",
      "(1155, 74)\n",
      "block_260\n",
      "(980, 74)\n",
      "block_263\n",
      "(782, 74)\n",
      "block_265\n",
      "(958, 74)\n",
      "block_268\n",
      "(1108, 74)\n",
      "block_272\n",
      "(1123, 74)\n",
      "block_278\n",
      "(926, 74)\n",
      "block_281\n",
      "(1010, 74)\n",
      "block_284\n",
      "(1017, 74)\n",
      "block_285\n",
      "(866, 74)\n",
      "block_288\n",
      "(1003, 74)\n",
      "block_290\n",
      "(1102, 74)\n",
      "block_292\n",
      "(888, 74)\n",
      "block_294\n",
      "(847, 74)\n",
      "block_295\n",
      "(1142, 74)\n",
      "block_296\n",
      "(813, 74)\n",
      "block_297\n",
      "(753, 74)\n",
      "block_298\n",
      "(664, 74)\n",
      "block_300\n",
      "(1047, 74)\n",
      "block_301\n",
      "(1082, 74)\n",
      "block_302\n",
      "(1104, 74)\n"
     ]
    }
   ],
   "source": [
    "df_test=pd.DataFrame()\n",
    "#Blockwise operation- normalizing within each block for test set\n",
    "for i in set(test_final_list):\n",
    "    #declaring variable names on the go\n",
    "    x='block_'+str(i)\n",
    "    print(x)\n",
    "    #subsetting each block from the training set\n",
    "    vars()[x]=test_final[test_final.V0==i]\n",
    "    #Normalizing data inside each block\n",
    "    min_max_scaler = preprocessing.MinMaxScaler()\n",
    "    x_scaled = min_max_scaler.fit_transform(vars()[x].iloc[:,3:77])\n",
    "    df_normalized_test = pd.DataFrame(x_scaled)\n",
    "    #printing size of each block and class distribution\n",
    "    print(df_normalized_test.shape)\n",
    "  #  print(vars()[x].V2.value_counts())\n",
    "    df_test=pd.concat([df_test, df_normalized_test])"
   ]
  },
  {
   "cell_type": "code",
   "execution_count": 40,
   "metadata": {},
   "outputs": [],
   "source": [
    "#Consider the entire dataset\n",
    "#Downsample majority class\n",
    "rus = RandomUnderSampler(return_indices=True)\n",
    "X_rus, y_rus, id_rus = rus.fit_sample(df_final.iloc[:,3:77], train.V2)\n",
    "test=[]"
   ]
  },
  {
   "cell_type": "code",
   "execution_count": 39,
   "metadata": {},
   "outputs": [],
   "source": [
    "X_train, X_test, y_train, y_test = train_test_split(\n",
    "...     X_rus,y_rus, test_size=0.33, random_state=42)\n",
    "..."
   ]
  },
  {
   "cell_type": "code",
   "execution_count": 45,
   "metadata": {},
   "outputs": [],
   "source": [
    "test=[]\n",
    "#classifier training and reporting accuracy on test data without feature selection\n",
    "def test_results(X_train,y_train,X_test, y_test, test):\n",
    "    classifiers = {\n",
    "        \"Naive Bayes\"         : GaussianNB(),\n",
    "        \"Gradient Boost\"      : GradientBoostingClassifier(),\n",
    "        \"Adaboost\"            : AdaBoostClassifier(DecisionTreeClassifier(max_depth=1)),\n",
    "        \"Decision Tree\"       : DecisionTreeClassifier(),\n",
    "        \"Extra Random Trees\"  : ExtraTreesClassifier(n_estimators=300),\n",
    "        \"Logistic Regression\" : LogisticRegression(),\n",
    "        \"K-Nearest-Neighbors\" : KNeighborsClassifier(),\n",
    "        \"SVM\"                 : LinearSVC(),\n",
    "        \"Random Forest\"       : RandomForestClassifier(n_estimators=300)\n",
    "    }\n",
    "    \n",
    "    for i in classifiers:\n",
    "        # cross validation\n",
    "        print(i)\n",
    "        model=classifiers[i].fit(X_train,y_train)\n",
    "        test.append(accuracy_score(y_test,model.predict(X_test)))\n",
    "        print(accuracy_score(y_test,model.predict(X_test)))\n",
    "    \n",
    "    return test"
   ]
  },
  {
   "cell_type": "code",
   "execution_count": 42,
   "metadata": {},
   "outputs": [
    {
     "name": "stdout",
     "output_type": "stream",
     "text": [
      "Naive Bayes\n",
      "0.5035046728971962\n",
      "Gradient Boost\n",
      "0.5210280373831776\n",
      "Adaboost\n",
      "0.5046728971962616\n",
      "Decision Tree\n",
      "0.5046728971962616\n",
      "Extra Random Trees\n",
      "0.5852803738317757\n",
      "Logistic Regression\n",
      "0.5116822429906542\n",
      "K-Nearest-Neighbors\n"
     ]
    },
    {
     "name": "stderr",
     "output_type": "stream",
     "text": [
      "/root/anaconda3/lib/python3.7/site-packages/sklearn/linear_model/logistic.py:432: FutureWarning: Default solver will be changed to 'lbfgs' in 0.22. Specify a solver to silence this warning.\n",
      "  FutureWarning)\n"
     ]
    },
    {
     "name": "stdout",
     "output_type": "stream",
     "text": [
      "0.5233644859813084\n",
      "SVM\n",
      "0.5046728971962616\n",
      "Random Forest\n",
      "0.5572429906542056\n"
     ]
    },
    {
     "data": {
      "text/plain": [
       "[0.5035046728971962,\n",
       " 0.5210280373831776,\n",
       " 0.5046728971962616,\n",
       " 0.5046728971962616,\n",
       " 0.5852803738317757,\n",
       " 0.5116822429906542,\n",
       " 0.5233644859813084,\n",
       " 0.5046728971962616,\n",
       " 0.5572429906542056]"
      ]
     },
     "execution_count": 42,
     "metadata": {},
     "output_type": "execute_result"
    }
   ],
   "source": [
    "test_results(X_train,y_train,X_test,y_test,test)"
   ]
  },
  {
   "cell_type": "code",
   "execution_count": 43,
   "metadata": {},
   "outputs": [],
   "source": [
    "#using SMOTE on entire data\n",
    "from imblearn.over_sampling import SMOTE\n",
    "\n",
    "smote = SMOTE(ratio='minority')\n",
    "X_sm, y_sm = smote.fit_sample(df_final.iloc[:,3:77], train.V2)\n"
   ]
  },
  {
   "cell_type": "code",
   "execution_count": 44,
   "metadata": {},
   "outputs": [],
   "source": [
    "X_train, X_test, y_train, y_test = train_test_split(\n",
    "...     X_sm,y_sm, test_size=0.33, random_state=42)\n",
    "..."
   ]
  },
  {
   "cell_type": "code",
   "execution_count": 46,
   "metadata": {},
   "outputs": [
    {
     "name": "stdout",
     "output_type": "stream",
     "text": [
      "Naive Bayes\n",
      "0.6348160812242372\n",
      "Gradient Boost\n",
      "0.7860731479636253\n",
      "Adaboost\n",
      "0.7009995699646532\n",
      "Decision Tree\n",
      "0.9375085220419337\n",
      "Extra Random Trees\n",
      "0.9998426699950703\n",
      "Logistic Regression\n"
     ]
    },
    {
     "name": "stderr",
     "output_type": "stream",
     "text": [
      "/root/anaconda3/lib/python3.7/site-packages/sklearn/linear_model/logistic.py:432: FutureWarning: Default solver will be changed to 'lbfgs' in 0.22. Specify a solver to silence this warning.\n",
      "  FutureWarning)\n"
     ]
    },
    {
     "name": "stdout",
     "output_type": "stream",
     "text": [
      "0.5916132618705489\n",
      "K-Nearest-Neighbors\n",
      "0.8366914548829989\n",
      "SVM\n",
      "0.592357957227216\n",
      "Random Forest\n",
      "0.9989511333004688\n"
     ]
    },
    {
     "data": {
      "text/plain": [
       "[0.6348160812242372,\n",
       " 0.7860731479636253,\n",
       " 0.7009995699646532,\n",
       " 0.9375085220419337,\n",
       " 0.9998426699950703,\n",
       " 0.5916132618705489,\n",
       " 0.8366914548829989,\n",
       " 0.592357957227216,\n",
       " 0.9989511333004688]"
      ]
     },
     "execution_count": 46,
     "metadata": {},
     "output_type": "execute_result"
    }
   ],
   "source": [
    "test_results(X_train,y_train,X_test,y_test,test)"
   ]
  },
  {
   "cell_type": "code",
   "execution_count": 47,
   "metadata": {},
   "outputs": [
    {
     "name": "stderr",
     "output_type": "stream",
     "text": [
      "/root/anaconda3/lib/python3.7/site-packages/sklearn/ensemble/forest.py:245: FutureWarning: The default value of n_estimators will change from 10 in version 0.20 to 100 in 0.22.\n",
      "  \"10 in version 0.20 to 100 in 0.22.\", FutureWarning)\n"
     ]
    },
    {
     "data": {
      "text/plain": [
       "RandomForestClassifier(bootstrap=True, class_weight=None, criterion='gini',\n",
       "                       max_depth=None, max_features='auto', max_leaf_nodes=None,\n",
       "                       min_impurity_decrease=0.0, min_impurity_split=None,\n",
       "                       min_samples_leaf=1, min_samples_split=2,\n",
       "                       min_weight_fraction_leaf=0.0, n_estimators=10,\n",
       "                       n_jobs=None, oob_score=False, random_state=None,\n",
       "                       verbose=0, warm_start=False)"
      ]
     },
     "execution_count": 47,
     "metadata": {},
     "output_type": "execute_result"
    }
   ],
   "source": [
    "rf=RandomForestClassifier()\n",
    "rf.fit(X_train,y_train)"
   ]
  },
  {
   "cell_type": "code",
   "execution_count": 48,
   "metadata": {},
   "outputs": [],
   "source": [
    "pred=rf.predict(df_test.iloc[:,3:77]) #results 130"
   ]
  },
  {
   "cell_type": "code",
   "execution_count": 56,
   "metadata": {},
   "outputs": [],
   "source": [
    "def results_upload(pred,file):\n",
    "    prediction=pd.DataFrame(test_final.V0)\n",
    "    prediction['V1']=test_final.V1\n",
    "    prediction['V2']=pred\n",
    "    prediction.to_csv(file, header=None, index=None, sep=' ', mode='a')\n"
   ]
  },
  {
   "cell_type": "code",
   "execution_count": 59,
   "metadata": {},
   "outputs": [
    {
     "name": "stderr",
     "output_type": "stream",
     "text": [
      "/root/anaconda3/lib/python3.7/site-packages/sklearn/ensemble/forest.py:245: FutureWarning: The default value of n_estimators will change from 10 in version 0.20 to 100 in 0.22.\n",
      "  \"10 in version 0.20 to 100 in 0.22.\", FutureWarning)\n"
     ]
    },
    {
     "data": {
      "text/plain": [
       "ExtraTreesClassifier(bootstrap=False, class_weight=None, criterion='gini',\n",
       "                     max_depth=None, max_features='auto', max_leaf_nodes=None,\n",
       "                     min_impurity_decrease=0.0, min_impurity_split=None,\n",
       "                     min_samples_leaf=1, min_samples_split=2,\n",
       "                     min_weight_fraction_leaf=0.0, n_estimators=10, n_jobs=None,\n",
       "                     oob_score=False, random_state=None, verbose=0,\n",
       "                     warm_start=False)"
      ]
     },
     "execution_count": 59,
     "metadata": {},
     "output_type": "execute_result"
    }
   ],
   "source": [
    "et=ExtraTreesClassifier()\n",
    "et.fit(X_train,y_train)"
   ]
  },
  {
   "cell_type": "code",
   "execution_count": 69,
   "metadata": {},
   "outputs": [],
   "source": [
    "pred=et.predict(df_test.iloc[:,3:77])"
   ]
  },
  {
   "cell_type": "code",
   "execution_count": 70,
   "metadata": {},
   "outputs": [],
   "source": [
    "results_upload(pred,'smote_extra_trees.txt') #rank: 128"
   ]
  },
  {
   "cell_type": "code",
   "execution_count": 64,
   "metadata": {},
   "outputs": [
    {
     "data": {
      "text/plain": [
       "AdaBoostClassifier(algorithm='SAMME.R', base_estimator=None, learning_rate=1.0,\n",
       "                   n_estimators=50, random_state=None)"
      ]
     },
     "execution_count": 64,
     "metadata": {},
     "output_type": "execute_result"
    }
   ],
   "source": [
    "ada=AdaBoostClassifier()\n",
    "ada.fit(X_train,y_train)"
   ]
  },
  {
   "cell_type": "code",
   "execution_count": 67,
   "metadata": {},
   "outputs": [],
   "source": [
    "pred=ada.predict(df_test.iloc[:,3:77])"
   ]
  },
  {
   "cell_type": "code",
   "execution_count": 68,
   "metadata": {},
   "outputs": [],
   "source": [
    "results_upload(pred,'smote_adaboost_trees.txt') #rank:136"
   ]
  },
  {
   "cell_type": "code",
   "execution_count": 72,
   "metadata": {},
   "outputs": [],
   "source": [
    "clf = linear_model.SGDClassifier(max_iter=1000, tol=1e-3)"
   ]
  },
  {
   "cell_type": "code",
   "execution_count": 73,
   "metadata": {},
   "outputs": [
    {
     "data": {
      "text/plain": [
       "SGDClassifier(alpha=0.0001, average=False, class_weight=None,\n",
       "              early_stopping=False, epsilon=0.1, eta0=0.0, fit_intercept=True,\n",
       "              l1_ratio=0.15, learning_rate='optimal', loss='hinge',\n",
       "              max_iter=1000, n_iter_no_change=5, n_jobs=None, penalty='l2',\n",
       "              power_t=0.5, random_state=None, shuffle=True, tol=0.001,\n",
       "              validation_fraction=0.1, verbose=0, warm_start=False)"
      ]
     },
     "execution_count": 73,
     "metadata": {},
     "output_type": "execute_result"
    }
   ],
   "source": [
    "clf.fit(X_train, y_train)"
   ]
  },
  {
   "cell_type": "code",
   "execution_count": 74,
   "metadata": {},
   "outputs": [],
   "source": [
    "pred=clf.predict(df_test.iloc[:,3:77])"
   ]
  },
  {
   "cell_type": "code",
   "execution_count": 75,
   "metadata": {},
   "outputs": [],
   "source": [
    "results_upload(pred,'SGDclassifier.txt') #rank:136"
   ]
  },
  {
   "cell_type": "code",
   "execution_count": null,
   "metadata": {},
   "outputs": [],
   "source": []
  },
  {
   "cell_type": "markdown",
   "metadata": {},
   "source": [
    "The best smote result was rank 128 using extra trees. So it is evident we have to deal with the class imbalance in some different ways. Now some intrablock models will be explored. "
   ]
  },
  {
   "cell_type": "code",
   "execution_count": 473,
   "metadata": {},
   "outputs": [
    {
     "data": {
      "text/plain": [
       "(1296, 74)"
      ]
     },
     "execution_count": 473,
     "metadata": {},
     "output_type": "execute_result"
    }
   ],
   "source": [
    "pos_eg=df_final.loc[train.V2==1]\n",
    "pos_eg.shape"
   ]
  },
  {
   "cell_type": "code",
   "execution_count": 526,
   "metadata": {},
   "outputs": [],
   "source": [
    "model_first_Set=SVC(kernel='rbf')"
   ]
  },
  {
   "cell_type": "code",
   "execution_count": 570,
   "metadata": {},
   "outputs": [
    {
     "data": {
      "text/plain": [
       "SVC(C=1.0, cache_size=200, class_weight=None, coef0=0.0,\n",
       "    decision_function_shape='ovr', degree=3, gamma='auto_deprecated',\n",
       "    kernel='linear', max_iter=-1, probability=False, random_state=None,\n",
       "    shrinking=True, tol=0.001, verbose=False)"
      ]
     },
     "execution_count": 570,
     "metadata": {},
     "output_type": "execute_result"
    }
   ],
   "source": [
    "model.fit(tenth_df,label_tenth_set)"
   ]
  },
  {
   "cell_type": "code",
   "execution_count": 571,
   "metadata": {},
   "outputs": [],
   "source": [
    "prediction=pd.DataFrame(test_final.V0)\n"
   ]
  },
  {
   "cell_type": "code",
   "execution_count": 572,
   "metadata": {},
   "outputs": [],
   "source": [
    "prediction['V0']=test_final.V0"
   ]
  },
  {
   "cell_type": "code",
   "execution_count": 573,
   "metadata": {},
   "outputs": [],
   "source": [
    "prediction['V1']=test_final.V1"
   ]
  },
  {
   "cell_type": "code",
   "execution_count": 574,
   "metadata": {},
   "outputs": [],
   "source": [
    "prediction['V2']=model.predict(df_test)"
   ]
  },
  {
   "cell_type": "code",
   "execution_count": 577,
   "metadata": {},
   "outputs": [],
   "source": [
    "prediction.to_csv(r'grsvm4.txt', header=None, index=None, sep=' ', mode='a') #Rank 127\n"
   ]
  },
  {
   "cell_type": "markdown",
   "metadata": {},
   "source": [
    "Now applying SMOTE on the above reduced training set"
   ]
  },
  {
   "cell_type": "code",
   "execution_count": 581,
   "metadata": {},
   "outputs": [
    {
     "data": {
      "text/plain": [
       "(49626, 74)"
      ]
     },
     "execution_count": 581,
     "metadata": {},
     "output_type": "execute_result"
    }
   ],
   "source": [
    "#size of the traning set and class distribution\n",
    "tenth_df.shape\n"
   ]
  },
  {
   "cell_type": "code",
   "execution_count": 590,
   "metadata": {},
   "outputs": [
    {
     "data": {
      "text/plain": [
       "Counter({1: 1296, 0: 48330})"
      ]
     },
     "execution_count": 590,
     "metadata": {},
     "output_type": "execute_result"
    }
   ],
   "source": [
    "Counter(label_tenth_set)"
   ]
  },
  {
   "cell_type": "code",
   "execution_count": 591,
   "metadata": {},
   "outputs": [],
   "source": [
    "from imblearn.over_sampling import SMOTE\n",
    "\n",
    "smote = SMOTE(ratio='minority')\n",
    "X_sm, y_sm = smote.fit_sample(tenth_df, label_tenth_set)"
   ]
  },
  {
   "cell_type": "code",
   "execution_count": 592,
   "metadata": {},
   "outputs": [
    {
     "data": {
      "text/plain": [
       "SVC(C=1.0, cache_size=200, class_weight=None, coef0=0.0,\n",
       "    decision_function_shape='ovr', degree=3, gamma='auto_deprecated',\n",
       "    kernel='linear', max_iter=-1, probability=False, random_state=None,\n",
       "    shrinking=True, tol=0.001, verbose=False)"
      ]
     },
     "execution_count": 592,
     "metadata": {},
     "output_type": "execute_result"
    }
   ],
   "source": [
    "model.fit(X_sm,y_sm)"
   ]
  },
  {
   "cell_type": "code",
   "execution_count": 593,
   "metadata": {},
   "outputs": [],
   "source": [
    "prediction['V2']=model.predict(df_test)"
   ]
  },
  {
   "cell_type": "code",
   "execution_count": 594,
   "metadata": {},
   "outputs": [],
   "source": [
    "prediction.to_csv(r'smote_grsvm4.txt', header=None, index=None, sep=' ', mode='a')  #rank 137\n"
   ]
  },
  {
   "cell_type": "code",
   "execution_count": 595,
   "metadata": {},
   "outputs": [
    {
     "data": {
      "text/plain": [
       "Counter({1: 62903, 0: 76755})"
      ]
     },
     "execution_count": 595,
     "metadata": {},
     "output_type": "execute_result"
    }
   ],
   "source": [
    "Counter(prediction.V2)"
   ]
  },
  {
   "cell_type": "code",
   "execution_count": 8,
   "metadata": {},
   "outputs": [],
   "source": [
    "rdata=pd.read_table('cleaned_svm.txt')"
   ]
  },
  {
   "cell_type": "code",
   "execution_count": 9,
   "metadata": {},
   "outputs": [],
   "source": [
    "labels=rdata.V3"
   ]
  },
  {
   "cell_type": "code",
   "execution_count": 10,
   "metadata": {},
   "outputs": [],
   "source": [
    "del rdata['V1']\n",
    "del rdata['V2']\n",
    "del rdata['V3']"
   ]
  },
  {
   "cell_type": "code",
   "execution_count": 101,
   "metadata": {},
   "outputs": [],
   "source": [
    "model=KNeighborsClassifier().fit(rdata,labels)"
   ]
  },
  {
   "cell_type": "code",
   "execution_count": 103,
   "metadata": {},
   "outputs": [
    {
     "name": "stdout",
     "output_type": "stream",
     "text": [
      "              precision    recall  f1-score   support\n",
      "\n",
      "           0       0.98      1.00      0.99     21868\n",
      "           1       0.95      0.72      0.82      1296\n",
      "\n",
      "   micro avg       0.98      0.98      0.98     23164\n",
      "   macro avg       0.97      0.86      0.91     23164\n",
      "weighted avg       0.98      0.98      0.98     23164\n",
      "\n",
      "[[21824    44]\n",
      " [  364   932]]\n",
      "0.9823864617509929\n"
     ]
    }
   ],
   "source": [
    "originalclass = []\n",
    "predictedclass = []\n",
    "\n",
    "# Non_nested parameter search and scoring\n",
    "# Nested CV with parameter optimization\n",
    "nested_score = cross_val_score(model, rdata, labels, cv=10, scoring=make_scorer(classification_report_with_accuracy_score))\n",
    "# Average values in classification report for all folds in a K-fold Cross-validation  \n",
    "print(classification_report(originalclass, predictedclass))\n",
    "print(confusion_matrix(originalclass,predictedclass))\n",
    "print(accuracy_score(originalclass,predictedclass))"
   ]
  },
  {
   "cell_type": "code",
   "execution_count": 42,
   "metadata": {},
   "outputs": [],
   "source": [
    "test_data=pd.read_table('test_cleaned_svm_data.txt')\n"
   ]
  },
  {
   "cell_type": "code",
   "execution_count": 108,
   "metadata": {},
   "outputs": [],
   "source": [
    "pred=eclf1.predict(test_data)"
   ]
  },
  {
   "cell_type": "code",
   "execution_count": 99,
   "metadata": {},
   "outputs": [],
   "source": [
    "def results_upload(pred,file):\n",
    "    prediction=pd.DataFrame(test_final.V0)\n",
    "    prediction['V1']=test_final.V1\n",
    "    prediction['V2']=pred\n",
    "    prediction.to_csv(file, header=None, index=None, sep=' ', mode='a')\n"
   ]
  },
  {
   "cell_type": "code",
   "execution_count": 109,
   "metadata": {},
   "outputs": [],
   "source": [
    "results_upload(pred,'blockwise_svm_et_ensemble_final.txt')"
   ]
  },
  {
   "cell_type": "code",
   "execution_count": 79,
   "metadata": {},
   "outputs": [],
   "source": [
    "pred=[]"
   ]
  },
  {
   "cell_type": "code",
   "execution_count": 107,
   "metadata": {},
   "outputs": [
    {
     "name": "stderr",
     "output_type": "stream",
     "text": [
      "/root/anaconda3/lib/python3.7/site-packages/sklearn/ensemble/forest.py:246: FutureWarning: The default value of n_estimators will change from 10 in version 0.20 to 100 in 0.22.\n",
      "  \"10 in version 0.20 to 100 in 0.22.\", FutureWarning)\n",
      "/root/anaconda3/lib/python3.7/site-packages/sklearn/svm/base.py:196: FutureWarning: The default value of gamma will change from 'auto' to 'scale' in version 0.22 to account better for unscaled features. Set gamma explicitly to 'auto' or 'scale' to avoid this warning.\n",
      "  \"avoid this warning.\", FutureWarning)\n"
     ]
    }
   ],
   "source": [
    "svm=SVC(kernel='rbf')\n",
    "et=ExtraTreesClassifier()\n",
    "eclf1 = VotingClassifier(estimators=[('et', et), ('svm', svm)], voting='hard')\n",
    "eclf1 = eclf1.fit(rdata,labels)"
   ]
  },
  {
   "cell_type": "code",
   "execution_count": 112,
   "metadata": {},
   "outputs": [
    {
     "name": "stderr",
     "output_type": "stream",
     "text": [
      "/root/anaconda3/lib/python3.7/site-packages/sklearn/ensemble/forest.py:246: FutureWarning: The default value of n_estimators will change from 10 in version 0.20 to 100 in 0.22.\n",
      "  \"10 in version 0.20 to 100 in 0.22.\", FutureWarning)\n"
     ]
    },
    {
     "data": {
      "text/plain": [
       "RandomForestClassifier(bootstrap=True, class_weight=None, criterion='gini',\n",
       "            max_depth=None, max_features='auto', max_leaf_nodes=None,\n",
       "            min_impurity_decrease=0.0, min_impurity_split=None,\n",
       "            min_samples_leaf=1, min_samples_split=2,\n",
       "            min_weight_fraction_leaf=0.0, n_estimators=10, n_jobs=None,\n",
       "            oob_score=False, random_state=None, verbose=0,\n",
       "            warm_start=False)"
      ]
     },
     "execution_count": 112,
     "metadata": {},
     "output_type": "execute_result"
    }
   ],
   "source": [
    "RF=RandomForestClassifier()\n",
    "RF.fit(rdata,labels)"
   ]
  },
  {
   "cell_type": "code",
   "execution_count": 114,
   "metadata": {},
   "outputs": [],
   "source": [
    "importances = list(RF.feature_importances_)\n",
    "x_values = list(range(len(importances)))\n",
    "col=[ 'V4', 'V5', 'V6', 'V7', 'V8', 'V9', 'V10',\n",
    "       'V11', 'V12', 'V13', 'V14', 'V15', 'V16', 'V17', 'V18', 'V19', 'V20',\n",
    "       'V21', 'V22', 'V23', 'V24', 'V25', 'V26', 'V27', 'V28', 'V29', 'V30',\n",
    "       'V31', 'V32', 'V33', 'V34', 'V35', 'V36', 'V37', 'V38', 'V39', 'V40',\n",
    "       'V41', 'V42', 'V43', 'V44', 'V45', 'V46', 'V47', 'V48', 'V49', 'V50',\n",
    "       'V51', 'V52', 'V53', 'V54', 'V55', 'V56', 'V57', 'V58', 'V59', 'V60',\n",
    "       'V61', 'V62', 'V63', 'V64', 'V65', 'V66', 'V67', 'V68', 'V69', 'V70',\n",
    "       'V71', 'V72', 'V73', 'V74', 'V75', 'V76']"
   ]
  },
  {
   "cell_type": "code",
   "execution_count": 115,
   "metadata": {},
   "outputs": [
    {
     "data": {
      "image/png": "[encoded data removed]",
      "text/plain": [
       "<Figure size 1440x720 with 1 Axes>"
      ]
     },
     "metadata": {
      "needs_background": "light"
     },
     "output_type": "display_data"
    }
   ],
   "source": [
    "f = plt.figure(figsize=(20,10))\n",
    "plt.bar(x_values, importances, orientation = 'vertical', color = 'r', edgecolor = 'k', linewidth = 1.2)\n",
    "plt.xticks(x_values, col, rotation='vertical')\n",
    "# Axis labels and title\n",
    "plt.ylabel('Importance'); plt.xlabel('Variable'); plt.title('Variable Importances');"
   ]
  },
  {
   "cell_type": "code",
   "execution_count": null,
   "metadata": {},
   "outputs": [],
   "source": []
  }
 ],
 "metadata": {
  "kernelspec": {
   "display_name": "Python 3",
   "language": "python",
   "name": "python3"
  },
  "language_info": {
   "codemirror_mode": {
    "name": "ipython",
    "version": 3
   },
   "file_extension": ".py",
   "mimetype": "text/x-python",
   "name": "python",
   "nbconvert_exporter": "python",
   "pygments_lexer": "ipython3",
   "version": "3.7.0"
  }
 },
 "nbformat": 4,
 "nbformat_minor": 2
}
